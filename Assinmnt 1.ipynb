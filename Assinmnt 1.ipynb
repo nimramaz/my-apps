{
 "cells": [
  {
   "cell_type": "code",
   "execution_count": 1,
   "id": "1f7437f9",
   "metadata": {},
   "outputs": [
    {
     "name": "stdout",
     "output_type": "stream",
     "text": [
      "123\n"
     ]
    }
   ],
   "source": [
    ">>> print(123)"
   ]
  },
  {
   "cell_type": "code",
   "execution_count": 8,
   "id": "aa9f8013",
   "metadata": {},
   "outputs": [
    {
     "name": "stdout",
     "output_type": "stream",
     "text": [
      "437.5\n"
     ]
    }
   ],
   "source": [
    "x1q3z90cd=35.0\n",
    "x1q3z9afd=12.50\n",
    "x1q3p9afd=x1q3z90cd * x1q3z9afd\n",
    "print(x1q3p9afd)"
   ]
  },
  {
   "cell_type": "code",
   "execution_count": 9,
   "id": "a27c49ce",
   "metadata": {},
   "outputs": [
    {
     "name": "stdout",
     "output_type": "stream",
     "text": [
      "3\n",
      "64\n"
     ]
    }
   ],
   "source": [
    ">>> jj =23\n",
    ">>> kk =jj % 5\n",
    ">>> print (kk)\n",
    "3\n",
    ">>> print(4 ** 3)"
   ]
  },
  {
   "cell_type": "code",
   "execution_count": 10,
   "id": "a915c2d7",
   "metadata": {},
   "outputs": [
    {
     "name": "stdout",
     "output_type": "stream",
     "text": [
      "11.0\n"
     ]
    }
   ],
   "source": [
    ">>> x = 1 + 2 ** 3/ 4 * 5\n",
    ">>> print (x)"
   ]
  },
  {
   "cell_type": "code",
   "execution_count": 11,
   "id": "81406b83",
   "metadata": {},
   "outputs": [
    {
     "name": "stdout",
     "output_type": "stream",
     "text": [
      "5\n"
     ]
    }
   ],
   "source": [
    ">>> ddd = 1+4\n",
    ">>> print (ddd)\n"
   ]
  },
  {
   "cell_type": "code",
   "execution_count": 13,
   "id": "9119f86a",
   "metadata": {},
   "outputs": [
    {
     "name": "stdout",
     "output_type": "stream",
     "text": [
      "hellothere\n"
     ]
    }
   ],
   "source": [
    ">>> eee = 'hello' + 'there'\n",
    ">>> print(eee)\n"
   ]
  },
  {
   "cell_type": "code",
   "execution_count": 16,
   "id": "5bb5180e",
   "metadata": {},
   "outputs": [
    {
     "data": {
      "text/plain": [
       "int"
      ]
     },
     "execution_count": 16,
     "metadata": {},
     "output_type": "execute_result"
    }
   ],
   "source": [
    ">>> xx =1 \n",
    ">>> type (xx)\n",
    "\n"
   ]
  },
  {
   "cell_type": "code",
   "execution_count": 17,
   "id": "b76b5343",
   "metadata": {},
   "outputs": [
    {
     "name": "stdout",
     "output_type": "stream",
     "text": [
      "199.0\n"
     ]
    }
   ],
   "source": [
    ">>> print (float(99) + 100)"
   ]
  },
  {
   "cell_type": "code",
   "execution_count": 19,
   "id": "fc74b6ad",
   "metadata": {},
   "outputs": [
    {
     "data": {
      "text/plain": [
       "int"
      ]
     },
     "execution_count": 19,
     "metadata": {},
     "output_type": "execute_result"
    }
   ],
   "source": [
    ">>> i = 42\n",
    ">>> type (i)"
   ]
  },
  {
   "cell_type": "code",
   "execution_count": 20,
   "id": "de6e0e63",
   "metadata": {},
   "outputs": [
    {
     "name": "stdout",
     "output_type": "stream",
     "text": [
      "5.0\n"
     ]
    }
   ],
   "source": [
    ">>> print (10/2)"
   ]
  },
  {
   "cell_type": "code",
   "execution_count": 21,
   "id": "867752e1",
   "metadata": {},
   "outputs": [
    {
     "name": "stdout",
     "output_type": "stream",
     "text": [
      "4.5\n"
     ]
    }
   ],
   "source": [
    ">>> print ( 9/2)"
   ]
  },
  {
   "cell_type": "code",
   "execution_count": null,
   "id": "cc3e1135",
   "metadata": {},
   "outputs": [],
   "source": []
  },
  {
   "cell_type": "code",
   "execution_count": null,
   "id": "0a745e3b",
   "metadata": {},
   "outputs": [],
   "source": []
  }
 ],
 "metadata": {
  "kernelspec": {
   "display_name": "Python 3 (ipykernel)",
   "language": "python",
   "name": "python3"
  },
  "language_info": {
   "codemirror_mode": {
    "name": "ipython",
    "version": 3
   },
   "file_extension": ".py",
   "mimetype": "text/x-python",
   "name": "python",
   "nbconvert_exporter": "python",
   "pygments_lexer": "ipython3",
   "version": "3.11.4"
  }
 },
 "nbformat": 4,
 "nbformat_minor": 5
}
